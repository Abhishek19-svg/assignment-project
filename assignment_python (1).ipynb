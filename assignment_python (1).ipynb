{
  "nbformat": 4,
  "nbformat_minor": 0,
  "metadata": {
    "colab": {
      "provenance": []
    },
    "kernelspec": {
      "name": "python3",
      "display_name": "Python 3"
    },
    "language_info": {
      "name": "python"
    }
  },
  "cells": [
    {
      "cell_type": "code",
      "execution_count": null,
      "metadata": {
        "id": "sqk5mNqgDR-M"
      },
      "outputs": [],
      "source": [
        "\n",
        "                                               #assignment python\n"
      ]
    },
    {
      "cell_type": "markdown",
      "source": [
        "#1 Explain the key features of Python that make it a popular choice for programming.\n",
        "\n",
        "\n",
        "Ans-Python is one of the most popular programming languages today, and its wide adoption comes from several key features that make it especially appealing to developers of all levels:\n",
        "Python is a popular programming language for many reasons. Here are some of its key features that make it widely used across different domains:\n",
        "\n",
        "1. Easy to Learn and Use\n",
        "Python has a simple, readable syntax that resembles plain English.\n",
        "\n",
        "It reduces the complexity of coding, making it ideal for beginners and professionals alike.\n",
        "\n",
        "2. Interpreted Language\n",
        "Python is interpreted, not compiled. You can run your code line by line, which makes debugging easier and faster.\n",
        "\n",
        "3. Dynamically Typed\n",
        "You don’t need to declare variable types explicitly—Python figures it out at runtime. This makes code shorter and more flexible.\n",
        "\n",
        "4. High-Level Language\n",
        "Python abstracts many low-level details like memory management, making development faster and less error-prone.\n",
        "\n",
        "5. Extensive Standard Library\n",
        "Comes with a rich set of built-in modules and functions for handling files, networking, regular expressions, math, web services, and more.\n",
        "\n",
        "6. Large Ecosystem of Third-Party Libraries\n",
        "Tools like NumPy, pandas, Django, Flask, TensorFlow, and others extend Python for tasks in:\n",
        "\n",
        "Data science and machine learning\n",
        "\n",
        "Web development\n",
        "\n",
        "Automation/scripting\n",
        "\n",
        "Game development\n",
        "\n",
        "Cybersecurity\n",
        "\n",
        "7. Cross-Platform Compatibility\n",
        "Python runs on Windows, macOS, Linux, and more—write code once and run it anywhere.\n",
        "\n",
        "8. Community Support\n",
        "Python has a huge global community, meaning:\n",
        "\n",
        "Tons of tutorials and documentation\n",
        "\n",
        "Active forums and Q&A sites (like Stack Overflow)\n",
        "\n",
        "Open-source projects and collaborations\n",
        "\n",
        "9. Supports Multiple Programming Paradigms\n",
        "You can write Python code in procedural, object-oriented, or functional styles—or mix them as needed.\n",
        "\n",
        "10. Used by Major Tech Companies\n",
        "Companies like Google, Facebook, Netflix, and NASA use Python, which contributes to its popularity and job market demand.\n",
        "\n",
        "\n",
        "\n"
      ],
      "metadata": {
        "id": "XU0M_Z95ERl0"
      }
    },
    {
      "cell_type": "markdown",
      "source": [
        "### 2)**Describe the role of predefined keywords in Python and provide examples of how they are used in a program**\n",
        "\n",
        "Ans- Predefined keywords in Python are reserved words that have special meaning to the Python interpreter. They are an essential part of the language’s syntax and structure, and cannot be used as identifiers (like variable names, function names, or class names).\n",
        "\n",
        "Role of Predefined Keywords Control the Flow of Programs: Keywords like if, else, for, and while help control the logical flow of a program.\n",
        "\n",
        "Define Structures: Keywords such as class, def, and lambda are used to define classes and functions.\n",
        "\n",
        "Error Handling: Keywords like try, except, and finally are used for managing exceptions.\n",
        "\n",
        "Boolean and Logical Operations: True, False, and, or, not are used for logic-based conditions.\n",
        "\n",
        "Variable Scope and Identity: global, nonlocal, is, and in help define scope and object relationships."
      ],
      "metadata": {
        "id": "7hgTdztNAgQf"
      }
    },
    {
      "cell_type": "markdown",
      "source": [
        "1. **Conditional Statement**\n",
        "\n",
        ". if and else are control flow keywords.bold text"
      ],
      "metadata": {
        "id": "wAZyCqOY-mhv"
      }
    },
    {
      "cell_type": "code",
      "source": [
        "x = 10\n",
        "\n",
        "if x > 5:\n",
        "    print(\"x is greater than 5\")\n",
        "else:\n",
        "    print(\"x is 5 or less\")"
      ],
      "metadata": {
        "colab": {
          "base_uri": "https://localhost:8080/"
        },
        "id": "Ogt8z-cD-XTW",
        "outputId": "2893f8d2-c1e6-458b-9a03-aadb1679d843"
      },
      "execution_count": null,
      "outputs": [
        {
          "output_type": "stream",
          "name": "stdout",
          "text": [
            "x is greater than 5\n"
          ]
        }
      ]
    },
    {
      "cell_type": "markdown",
      "source": [
        "2. **Loop**\n",
        "\n",
        ".for is used to create a loop, and in is used to iterate through a sequence.\n"
      ],
      "metadata": {
        "id": "-ndcI5OJ_DKH"
      }
    },
    {
      "cell_type": "code",
      "source": [
        "for i in range(3):\n",
        "    print(i)"
      ],
      "metadata": {
        "colab": {
          "base_uri": "https://localhost:8080/"
        },
        "id": "iodW8O-Q_GXf",
        "outputId": "678b00c9-3210-4521-fed6-1a2230442476"
      },
      "execution_count": null,
      "outputs": [
        {
          "output_type": "stream",
          "name": "stdout",
          "text": [
            "0\n",
            "1\n",
            "2\n"
          ]
        }
      ]
    },
    {
      "cell_type": "markdown",
      "source": [
        "3. Function **Definition**\n",
        "\n",
        ".def is used to define a function, and return is used to return a value from it."
      ],
      "metadata": {
        "id": "yfeQ_H1B_dqe"
      }
    },
    {
      "cell_type": "code",
      "source": [
        "def greet(name):\n",
        "    return \"Hello, \" + name"
      ],
      "metadata": {
        "id": "5scfzkrS_ph4"
      },
      "execution_count": null,
      "outputs": []
    },
    {
      "cell_type": "markdown",
      "source": [
        "4. 4. **Class Definition**\n",
        "\n",
        ".class defines a class, and def again is used to define methods inside it."
      ],
      "metadata": {
        "id": "Tc3lXbJB_vlu"
      }
    },
    {
      "cell_type": "code",
      "source": [
        "class Dog:\n",
        "    def __init__(self, name):\n",
        "        self.name = name"
      ],
      "metadata": {
        "id": "6uTOSf3K__0X"
      },
      "execution_count": null,
      "outputs": []
    },
    {
      "cell_type": "markdown",
      "source": [
        "5. **Exception Handling**\n",
        "\n",
        ". try and except are used for handling errors."
      ],
      "metadata": {
        "id": "EGScjBMDAFS9"
      }
    },
    {
      "cell_type": "code",
      "source": [
        "try:\n",
        "    num = int(\"abc\")\n",
        "except ValueError:\n",
        "    print(\"Conversion failed\")"
      ],
      "metadata": {
        "colab": {
          "base_uri": "https://localhost:8080/"
        },
        "id": "igWJrE1DANg3",
        "outputId": "fe213849-cee1-4662-b379-75be4cb318b8"
      },
      "execution_count": null,
      "outputs": [
        {
          "output_type": "stream",
          "name": "stdout",
          "text": [
            "Conversion failed\n"
          ]
        }
      ]
    },
    {
      "cell_type": "markdown",
      "source": [
        "## 3)Compare and contrast mutable and immutable objects in Python with examples\n",
        "\n",
        "ans=In Python, mutable and immutable objects refer to whether an object can be changed after it is created.\n"
      ],
      "metadata": {
        "id": "-Dk18GthASKe"
      }
    },
    {
      "cell_type": "markdown",
      "source": [
        " **Mutable Objects**\n",
        "Can be changed in place.\n",
        "\n",
        "Their state or contents can be modified after creation.\n",
        "\n",
        "Examples: list, dict, set, bytearray"
      ],
      "metadata": {
        "id": "wF5KBEsKCW03"
      }
    },
    {
      "cell_type": "code",
      "source": [
        "my_list = [1, 2, 3]\n",
        "my_list.append(4)\n",
        "print(my_list)  # Output: [1, 2, 3, 4]"
      ],
      "metadata": {
        "colab": {
          "base_uri": "https://localhost:8080/"
        },
        "id": "kuaIuUIKCbb3",
        "outputId": "e3914c2d-cf72-4030-a547-1ee863539b18"
      },
      "execution_count": null,
      "outputs": [
        {
          "output_type": "stream",
          "name": "stdout",
          "text": [
            "[1, 2, 3, 4]\n"
          ]
        }
      ]
    },
    {
      "cell_type": "markdown",
      "source": [
        ".The list my_list was changed by adding a new element."
      ],
      "metadata": {
        "id": "lvLsn-WNCnFG"
      }
    },
    {
      "cell_type": "markdown",
      "source": [
        "**Immutable Objects**\n",
        "Cannot be changed after creation.\n",
        "\n",
        "Any operation that tries to modify the object results in a new object being created.\n",
        "\n",
        "Examples: int, float, str, tuple, frozenset, bytes\n",
        "\n"
      ],
      "metadata": {
        "id": "DnaiV1C3efUc"
      }
    },
    {
      "cell_type": "code",
      "source": [
        "name = \"Alice\"\n",
        "name = name + \" Smith\"\n",
        "print(name)  # Output: Alice Smith"
      ],
      "metadata": {
        "colab": {
          "base_uri": "https://localhost:8080/"
        },
        "id": "C7vjsuiNe2PD",
        "outputId": "15da4c30-9526-4d08-8fea-0fd66aba7790"
      },
      "execution_count": null,
      "outputs": [
        {
          "output_type": "stream",
          "name": "stdout",
          "text": [
            "Alice Smith\n"
          ]
        }
      ]
    },
    {
      "cell_type": "markdown",
      "source": [
        "**Comparison Table.**\n",
        "Even though it looks like we \"modified\" the string, Python actually created a new string object and assigned it to name."
      ],
      "metadata": {
        "id": "uQpi07iUfCnE"
      }
    },
    {
      "cell_type": "markdown",
      "source": [
        "Feature | Mutable Objects | Immutable Objects\n",
        "Can be changed |  Yes |  No\n",
        "Memory address change |  No (usually same) |  Yes (new object)\n",
        "Examples | list, dict, set | int, str, tuple\n",
        "Use in collections |  Not hashable (usually) |  Hashable (can be dict keys)"
      ],
      "metadata": {
        "id": "noh3lIj_fGfL"
      }
    },
    {
      "cell_type": "markdown",
      "source": [
        "**Important Note on Tuples:**\n",
        "Tuples are immutable, but they can contain mutable elements:"
      ],
      "metadata": {
        "id": "46e2Xrh8fmNt"
      }
    },
    {
      "cell_type": "code",
      "source": [
        "t = (1, [2, 3])\n",
        "t[1].append(4)\n",
        "print(t)  # Output: (1, [2, 3, 4])"
      ],
      "metadata": {
        "colab": {
          "base_uri": "https://localhost:8080/"
        },
        "id": "F9eLiiZ5fter",
        "outputId": "ed4fb28e-6e78-4ca4-a1e8-1e84ca2cff9b"
      },
      "execution_count": null,
      "outputs": [
        {
          "output_type": "stream",
          "name": "stdout",
          "text": [
            "(1, [2, 3, 4])\n"
          ]
        }
      ]
    },
    {
      "cell_type": "code",
      "source": [],
      "metadata": {
        "id": "_a78x9QDmk8j"
      },
      "execution_count": null,
      "outputs": []
    },
    {
      "cell_type": "markdown",
      "source": [
        ".The tuple itself didn’t change (still two elements), but the list inside it did."
      ],
      "metadata": {
        "id": "bMd5SDpPfytU"
      }
    },
    {
      "cell_type": "markdown",
      "source": [
        "## 4)**Discuss the different types of operators in Python and provide examples of how they are used**\n",
        "\n",
        "ans= In Python, operators are special symbols or keywords used to perform operations on values or variables. They are essential for everything from basic math to logic and data manipulation."
      ],
      "metadata": {
        "id": "_68D0lsxmdID"
      }
    },
    {
      "cell_type": "markdown",
      "source": [
        "🔹 1. Arithmetic Operators\n",
        "\n",
        "   Used to perform mathematical operations."
      ],
      "metadata": {
        "id": "f9f8jW0fmpX7"
      }
    },
    {
      "cell_type": "markdown",
      "source": [
        "\n",
        "Operator\tDescription\tExample\n",
        "+\tAddition\t3 + 2 → 5\n",
        "-\tSubtraction\t5 - 1 → 4\n",
        "*\tMultiplication\t4 * 2 → 8\n",
        "/\tDivision\t10 / 2 → 5.0\n",
        "//\tFloor Division\t7 // 2 → 3\n",
        "%\tModulus (Remainder)\t7 % 2 → 1\n",
        "**\tExponentiation\t2 ** 3 → 8"
      ],
      "metadata": {
        "id": "UXcK2Hm5nToM"
      }
    },
    {
      "cell_type": "markdown",
      "source": [
        "🔹 2. Comparison (Relational) Operators\n",
        "Used to compare two values.\n",
        "\n",
        "\n",
        "Operator\tDescription\tExample\n",
        "==\tEqual to\t3 == 3 → True\n",
        "!=\tNot equal to\t3 != 4 → True\n",
        ">\tGreater than\t5 > 2 → True\n",
        "<\tLess than\t1 < 3 → True\n",
        ">=\tGreater than or equal\t4 >= 4 → True\n",
        "<=\tLess than or equal\t3 <= 2 → False"
      ],
      "metadata": {
        "id": "PRcMj6Y6ndxt"
      }
    },
    {
      "cell_type": "markdown",
      "source": [
        "🔹 3. Assignment Operators\n",
        "Used to assign values to variables.\n",
        "\n",
        "\n",
        "Operator\tDescription\tExample\n",
        "=\tAssign\tx = 10\n",
        "+=\tAdd and assign\tx += 5 → x = x + 5\n",
        "-=\tSubtract and assign\tx -= 2\n",
        "*=\tMultiply and assign\tx *= 3\n",
        "/=\tDivide and assign\tx /= 4\n",
        "%=\tModulus and assign\tx %= 3"
      ],
      "metadata": {
        "id": "Tjr686Ynniry"
      }
    },
    {
      "cell_type": "markdown",
      "source": [
        "🔹 4. Logical Operators\n",
        "Used to combine conditional statements.\n",
        "\n",
        "\n",
        "Operator\tDescription\tExample\n",
        "and\tTrue if both are True\tx > 1 and x < 10\n",
        "or\tTrue if at least one is True\tx > 1 or x > 10\n",
        "not\tReverses the result\tnot(x > 5)"
      ],
      "metadata": {
        "id": "rAuHjJXMn2RD"
      }
    },
    {
      "cell_type": "markdown",
      "source": [
        "🔹 5. Bitwise Operators\n",
        "Operate on binary representations.\n",
        "\n",
        "\n",
        "Operator\tDescription\tExample (binary)\n",
        "&\tAND\t5 & 3 → 1 (0101 & 0011)\n",
        "`\t`\tOR\n",
        "^\tXOR\t5 ^ 3 → 6\n",
        "~\tNOT\t~5 → -6\n",
        "<<\tLeft shift\t2 << 1 → 4\n",
        ">>\tRight shift\t4 >> 1 → 2"
      ],
      "metadata": {
        "id": "kNX2XShGn79U"
      }
    },
    {
      "cell_type": "markdown",
      "source": [
        "🔹 6. Membership Operators\n",
        "Used to test membership in a sequence (like lists, strings, etc.)\n",
        "\n",
        "\n",
        "Operator\tDescription\tExample\n",
        "in\tTrue if present\t'a' in 'apple' → True\n",
        "not in\tTrue if not present\t'x' not in 'apple' → True"
      ],
      "metadata": {
        "id": "qHmAUy24oBhE"
      }
    },
    {
      "cell_type": "markdown",
      "source": [
        "🔹 7. Identity Operators\n",
        "Used to compare the memory location of two objects.\n",
        "\n",
        "\n",
        "Operator\tDescription\tExample\n",
        "is\tTrue if same object\tx is y\n",
        "is not\tTrue if not same object\tx is not y"
      ],
      "metadata": {
        "id": "b7KlMJ6DoElE"
      }
    },
    {
      "cell_type": "markdown",
      "source": [
        "**xample Program Using Various Operators**\n",
        "\n",
        "\n",
        "\n"
      ],
      "metadata": {
        "id": "af1RAtEUoHpz"
      }
    },
    {
      "cell_type": "code",
      "source": [
        "x = 10\n",
        "y = 3\n",
        "\n",
        "# Arithmetic\n",
        "print(x + y)    # 13\n",
        "print(x ** y)   # 1000\n",
        "\n",
        "# Comparison\n",
        "print(x > y)    # True\n",
        "\n",
        "# Logical\n",
        "print(x > 5 and y < 5)  # True\n",
        "\n",
        "# Membership\n",
        "name = \"Alice\"\n",
        "print(\"A\" in name)  # True\n",
        "\n",
        "# Identity\n",
        "a = [1, 2]\n",
        "b = a\n",
        "print(a is b)  # True"
      ],
      "metadata": {
        "colab": {
          "base_uri": "https://localhost:8080/"
        },
        "id": "T1yo7GozoNGj",
        "outputId": "e551d442-14e9-405a-a2ed-8b8ff4608900"
      },
      "execution_count": null,
      "outputs": [
        {
          "output_type": "stream",
          "name": "stdout",
          "text": [
            "13\n",
            "1000\n",
            "True\n",
            "True\n",
            "True\n",
            "True\n"
          ]
        }
      ]
    },
    {
      "cell_type": "markdown",
      "source": [
        "# 5) Explain the concept of type casting in Python with examples\n",
        "\n",
        "ans=Type casting (or type conversion) is the process of converting one data type into another. Python provides built-in functions for both implicit and explicit type casting.\n",
        "\n"
      ],
      "metadata": {
        "id": "YaefY30EofY7"
      }
    },
    {
      "cell_type": "markdown",
      "source": [
        "🔹 1. Implicit Type Casting\n",
        "Python automatically converts one data type to another when needed, without user intervention."
      ],
      "metadata": {
        "id": "3KyybXZQyv7x"
      }
    },
    {
      "cell_type": "code",
      "source": [
        "x = 5        # int\n",
        "y = 2.0      # float\n",
        "\n",
        "z = x + y    # int + float → float\n",
        "print(z)     # Output: 7.0\n",
        "print(type(z))  # Output: <class 'float'>"
      ],
      "metadata": {
        "colab": {
          "base_uri": "https://localhost:8080/"
        },
        "id": "BK8xVKGZyzpD",
        "outputId": "dba8d742-d7b8-48cd-adcd-34e3f4a72804"
      },
      "execution_count": null,
      "outputs": [
        {
          "output_type": "stream",
          "name": "stdout",
          "text": [
            "7.0\n",
            "<class 'float'>\n"
          ]
        }
      ]
    },
    {
      "cell_type": "markdown",
      "source": [
        "Python converted x from int to float to avoid data loss"
      ],
      "metadata": {
        "id": "ArBWUFxXzH6C"
      }
    },
    {
      "cell_type": "markdown",
      "source": [
        "🔹 2. Explicit Type Casting\n",
        "You manually convert data from one type to another using functions like:\n",
        "\n",
        "int() – converts to integer\n",
        "\n",
        "float() – converts to float\n",
        "\n",
        "str() – converts to string\n",
        "\n",
        "list(), tuple(), set() – convert between collections"
      ],
      "metadata": {
        "id": "b1V9xSvWzMuj"
      }
    },
    {
      "cell_type": "markdown",
      "source": [
        "Convert float to int"
      ],
      "metadata": {
        "id": "3uU5newKzV_r"
      }
    },
    {
      "cell_type": "code",
      "source": [
        "a = 5.9\n",
        "b = int(a)\n",
        "print(b)  # Output: 5"
      ],
      "metadata": {
        "colab": {
          "base_uri": "https://localhost:8080/"
        },
        "id": "Gj3NAaMlzYWj",
        "outputId": "797bcd11-1d68-4649-ec59-7fec7a7d129b"
      },
      "execution_count": null,
      "outputs": [
        {
          "output_type": "stream",
          "name": "stdout",
          "text": [
            "5\n"
          ]
        }
      ]
    },
    {
      "cell_type": "markdown",
      "source": [
        "Convert int to string"
      ],
      "metadata": {
        "id": "UgXzUVubzb1q"
      }
    },
    {
      "cell_type": "code",
      "source": [
        "x = 10\n",
        "y = str(x)\n",
        "print(y + \" apples\")  # Output: 10 apples"
      ],
      "metadata": {
        "colab": {
          "base_uri": "https://localhost:8080/"
        },
        "id": "pcOcoY-lzecb",
        "outputId": "9b183c61-b05e-46a0-944c-6e8a448a58a9"
      },
      "execution_count": null,
      "outputs": [
        {
          "output_type": "stream",
          "name": "stdout",
          "text": [
            "10 apples\n"
          ]
        }
      ]
    },
    {
      "cell_type": "markdown",
      "source": [
        "Convert string to int"
      ],
      "metadata": {
        "id": "c1qocuJszgzi"
      }
    },
    {
      "cell_type": "code",
      "source": [
        "num = \"123\"\n",
        "converted = int(num)\n",
        "print(converted + 1)  # Output: 124"
      ],
      "metadata": {
        "colab": {
          "base_uri": "https://localhost:8080/"
        },
        "id": "owGz56pPzmQr",
        "outputId": "e6ba7f40-2ac8-4cf7-9c78-e1000a543601"
      },
      "execution_count": null,
      "outputs": [
        {
          "output_type": "stream",
          "name": "stdout",
          "text": [
            "124\n"
          ]
        }
      ]
    },
    {
      "cell_type": "markdown",
      "source": [
        "Convert list to set"
      ],
      "metadata": {
        "id": "5FRZlOsxzo9i"
      }
    },
    {
      "cell_type": "code",
      "source": [
        "my_list = [1, 2, 2, 3]\n",
        "my_set = set(my_list)\n",
        "print(my_set)  # Output: {1, 2, 3}"
      ],
      "metadata": {
        "colab": {
          "base_uri": "https://localhost:8080/"
        },
        "id": "zwT9b5-izriD",
        "outputId": "ffaff75d-5817-4057-d01f-f704bdea637b"
      },
      "execution_count": null,
      "outputs": [
        {
          "output_type": "stream",
          "name": "stdout",
          "text": [
            "{1, 2, 3}\n"
          ]
        }
      ]
    },
    {
      "cell_type": "markdown",
      "source": [
        "# 6) **How do conditional statements work in Python? Illustrate with examples**\n",
        "\n",
        "ans= Conditional Statements in Python\n",
        "Conditional statements allow your program to make decisions and execute certain blocks of code depending on whether a condition is True or False."
      ],
      "metadata": {
        "id": "WGE7syrJzxOb"
      }
    },
    {
      "cell_type": "markdown",
      "source": [
        "🔹 Basic Syntax"
      ],
      "metadata": {
        "id": "3cQSOmv-0im6"
      }
    },
    {
      "cell_type": "code",
      "source": [
        "if condition:\n",
        "    # code block if condition is True\n",
        "elif another_condition:\n",
        "    # code block if another_condition is True\n",
        "else:\n",
        "    # code block if none of the above are True\n"
      ],
      "metadata": {
        "collapsed": true,
        "id": "FNQsG0WP_LUK"
      },
      "execution_count": null,
      "outputs": []
    },
    {
      "cell_type": "markdown",
      "source": [
        "🔹 1. if Statement\n",
        "Executes a block of code only if the condition is True."
      ],
      "metadata": {
        "id": "t4h3R_hk_Y2h"
      }
    },
    {
      "cell_type": "code",
      "source": [
        "x = 10\n",
        "\n",
        "if x > 5:\n",
        "    print(\"x is greater than 5\")"
      ],
      "metadata": {
        "colab": {
          "base_uri": "https://localhost:8080/"
        },
        "id": "b93oj-wk_cA6",
        "outputId": "8e7cf982-a302-4bae-9a29-92c79d017325"
      },
      "execution_count": null,
      "outputs": [
        {
          "output_type": "stream",
          "name": "stdout",
          "text": [
            "x is greater than 5\n"
          ]
        }
      ]
    },
    {
      "cell_type": "markdown",
      "source": [
        "🔹 2. if-else Statement\n",
        "Executes one block if condition is True, another if False."
      ],
      "metadata": {
        "id": "okX07LL3_eJC"
      }
    },
    {
      "cell_type": "code",
      "source": [
        "x = 3\n",
        "\n",
        "if x > 5:\n",
        "    print(\"x is greater than 5\")\n",
        "else:\n",
        "    print(\"x is 5 or less\")"
      ],
      "metadata": {
        "colab": {
          "base_uri": "https://localhost:8080/"
        },
        "id": "QrxP98vO_hwx",
        "outputId": "cfd324a6-e0e6-46ee-eec7-bbdb15bf24de"
      },
      "execution_count": null,
      "outputs": [
        {
          "output_type": "stream",
          "name": "stdout",
          "text": [
            "x is 5 or less\n"
          ]
        }
      ]
    },
    {
      "cell_type": "markdown",
      "source": [
        "🔹 3. if-elif-else Statement\n",
        "Checks multiple conditions in order."
      ],
      "metadata": {
        "id": "T93jaU7v_noZ"
      }
    },
    {
      "cell_type": "code",
      "source": [
        "x = 5\n",
        "\n",
        "if x > 10:\n",
        "    print(\"x is greater than 10\")\n",
        "elif x == 5:\n",
        "    print(\"x is exactly 5\")\n",
        "else:\n",
        "    print(\"x is something else\")"
      ],
      "metadata": {
        "colab": {
          "base_uri": "https://localhost:8080/"
        },
        "id": "6KpY45TB_otC",
        "outputId": "c6ff277e-eab8-4834-ae28-fceda69ba47d"
      },
      "execution_count": null,
      "outputs": [
        {
          "output_type": "stream",
          "name": "stdout",
          "text": [
            "x is exactly 5\n"
          ]
        }
      ]
    },
    {
      "cell_type": "markdown",
      "source": [
        "🔹 4. Nested if Statements\n",
        "An if block inside another if block."
      ],
      "metadata": {
        "id": "UkQ4q3OG_sPB"
      }
    },
    {
      "cell_type": "code",
      "source": [
        "x = 10\n",
        "y = 20\n",
        "\n",
        "if x < 15:\n",
        "    if y > 15:\n",
        "        print(\"x is less than 15 and y is greater than 15\")"
      ],
      "metadata": {
        "id": "JfyJmRoM_vsJ"
      },
      "execution_count": null,
      "outputs": []
    },
    {
      "cell_type": "markdown",
      "source": [
        "🔹 5. Using Logical Operators\n",
        "You can combine conditions using:\n",
        "\n",
        "and\n",
        "\n",
        "or\n",
        "\n",
        "not"
      ],
      "metadata": {
        "id": "sUITW2fV_zW5"
      }
    },
    {
      "cell_type": "code",
      "source": [
        "age = 25\n",
        "if age > 18 and age < 30:\n",
        "    print(\"You're a young adult!\")"
      ],
      "metadata": {
        "colab": {
          "base_uri": "https://localhost:8080/"
        },
        "id": "19s6n2bv_5Wp",
        "outputId": "60946d7c-ef9c-48a2-a29e-7dfb3e703e25"
      },
      "execution_count": null,
      "outputs": [
        {
          "output_type": "stream",
          "name": "stdout",
          "text": [
            "You're a young adult!\n"
          ]
        }
      ]
    },
    {
      "cell_type": "markdown",
      "source": [
        "# **7)Describe the different types of loops in Python and their use cases with examples**\n",
        "\n",
        "ans=in Python, loops are used to execute a block of code repeatedly. There are two main types of loops:"
      ],
      "metadata": {
        "id": "t0A7wPKA_9mB"
      }
    },
    {
      "cell_type": "markdown",
      "source": [
        " 1. for Loop\n",
        "Used to iterate over a sequence like a list, tuple, string, or range.\n",
        "\n",
        " Syntax:\n",
        "\n"
      ],
      "metadata": {
        "id": "qJL5T_B4AX8I"
      }
    },
    {
      "cell_type": "code",
      "source": [
        "fruits = [\"apple\", \"banana\", \"cherry\"]\n",
        "\n",
        "for fruit in fruits:\n",
        "    print(fruit)"
      ],
      "metadata": {
        "colab": {
          "base_uri": "https://localhost:8080/"
        },
        "id": "zMzUbpfMAdky",
        "outputId": "0609de34-8fe9-4fde-ca85-3f1eb533c2c8"
      },
      "execution_count": null,
      "outputs": [
        {
          "output_type": "stream",
          "name": "stdout",
          "text": [
            "apple\n",
            "banana\n",
            "cherry\n"
          ]
        }
      ]
    },
    {
      "cell_type": "markdown",
      "source": [
        ". while Loop\n",
        "Executes a block as long as a condition is True.\n",
        "\n",
        " Syntax:\n",
        "\n"
      ],
      "metadata": {
        "id": "Uo1APpynAKUq"
      }
    },
    {
      "cell_type": "code",
      "source": [
        "count = 0\n",
        "\n",
        "while count < 3:\n",
        "    print(\"Counting:\", count)\n",
        "    count += 1"
      ],
      "metadata": {
        "colab": {
          "base_uri": "https://localhost:8080/"
        },
        "id": "6MZ5zvXqBPjR",
        "outputId": "535fc73c-73c3-4eb1-dfd1-c05cbb292089"
      },
      "execution_count": null,
      "outputs": [
        {
          "output_type": "stream",
          "name": "stdout",
          "text": [
            "Counting: 0\n",
            "Counting: 1\n",
            "Counting: 2\n"
          ]
        }
      ]
    },
    {
      "cell_type": "markdown",
      "source": [
        "Loop Control Statements\n",
        "🔸 break\n",
        "Stops the loop immediately."
      ],
      "metadata": {
        "id": "VzqLqnuUBTRi"
      }
    },
    {
      "cell_type": "code",
      "source": [
        "for i in range(5):\n",
        "    if i == 3:\n",
        "        break\n",
        "    print(i)"
      ],
      "metadata": {
        "colab": {
          "base_uri": "https://localhost:8080/"
        },
        "id": "ca_cqXtSBWGz",
        "outputId": "67735df2-5704-4cfc-da44-9c8070b172c0"
      },
      "execution_count": null,
      "outputs": [
        {
          "output_type": "stream",
          "name": "stdout",
          "text": [
            "0\n",
            "1\n",
            "2\n"
          ]
        }
      ]
    },
    {
      "cell_type": "markdown",
      "source": [
        "🔸 continue\n",
        "Skips the current iteration and continues with the next.\n",
        "\n",
        "\n"
      ],
      "metadata": {
        "id": "nWyl7yzfBaeK"
      }
    },
    {
      "cell_type": "code",
      "source": [
        "for i in range(5):\n",
        "    if i == 2:\n",
        "        continue\n",
        "    print(i)\n",
        "# Output: 0 1 3 4\n"
      ],
      "metadata": {
        "colab": {
          "base_uri": "https://localhost:8080/"
        },
        "id": "L3_S5ui8BjO6",
        "outputId": "fd9cb6a5-beb7-4fea-e94f-c2cb5ab1320e"
      },
      "execution_count": null,
      "outputs": [
        {
          "output_type": "stream",
          "name": "stdout",
          "text": [
            "0\n",
            "1\n",
            "3\n",
            "4\n"
          ]
        }
      ]
    },
    {
      "cell_type": "markdown",
      "source": [
        "🔸 pass\n",
        "Does nothing — used as a placeholder."
      ],
      "metadata": {
        "id": "H8tfCIiDBncM"
      }
    },
    {
      "cell_type": "code",
      "source": [
        "for i in range(3):\n",
        "    pass  # Placeholder for future code"
      ],
      "metadata": {
        "id": "qhOGi0NgBp1x"
      },
      "execution_count": null,
      "outputs": []
    },
    {
      "cell_type": "markdown",
      "source": [
        "Nested Loops:\n",
        "\n",
        "we can place loops inside other loops.\n",
        "\n",
        "\n"
      ],
      "metadata": {
        "id": "t6TM1ikQBtnL"
      }
    },
    {
      "cell_type": "code",
      "source": [
        "for i in range(2):\n",
        "    for j in range(3):\n",
        "        print(f\"i={i}, j={j}\")"
      ],
      "metadata": {
        "colab": {
          "base_uri": "https://localhost:8080/"
        },
        "id": "nrmdzcEcBy9y",
        "outputId": "fb0ce4d7-70b5-44d0-efeb-791d3caff40b"
      },
      "execution_count": null,
      "outputs": [
        {
          "output_type": "stream",
          "name": "stdout",
          "text": [
            "i=0, j=0\n",
            "i=0, j=1\n",
            "i=0, j=2\n",
            "i=1, j=0\n",
            "i=1, j=1\n",
            "i=1, j=2\n"
          ]
        }
      ]
    },
    {
      "cell_type": "markdown",
      "source": [
        "✅ Summary Table\n",
        "\n",
        "Loop Type\tBest For\tExample Use Case\n",
        "for\tKnown number of iterations\tLoop through a list of items\n",
        "while\tUnknown number, condition-based\tWait for user to enter correct input"
      ],
      "metadata": {
        "id": "0AYwSLFICD0i"
      }
    }
  ]
}